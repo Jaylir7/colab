{
  "nbformat": 4,
  "nbformat_minor": 0,
  "metadata": {
    "colab": {
      "name": "Pandas DataFrame UltraQuick Tutorial.ipynb",
      "provenance": [],
      "private_outputs": true
    },
    "kernelspec": {
      "name": "python3",
      "display_name": "Python 3"
    }
  },
  "cells": [
    {
      "cell_type": "markdown",
      "source": [
        "# 讀取檔案"
      ],
      "metadata": {
        "id": "gLwFgsYt_uwL"
      }
    },
    {
      "cell_type": "code",
      "metadata": {
        "id": "dbebd296"
      },
      "source": [
        "import pandas as pd\n",
        "\n",
        "# 讀取資料\n",
        "file_path = \"/content/Y&N_loan.xlsx\"\n",
        "df = pd.read_excel(file_path, sheet_name=\"ALL\")\n"
      ],
      "execution_count": null,
      "outputs": []
    },
    {
      "cell_type": "markdown",
      "source": [
        "# 資料前處理"
      ],
      "metadata": {
        "id": "cOD2nFEw_9yK"
      }
    },
    {
      "cell_type": "code",
      "source": [
        "agg_df = df.groupby(\"ID\").agg({\n",
        "    \"age_num\": \"first\",\n",
        "    \"資產等級\": \"max\",\n",
        "    \"總存款(含證券)\": \"sum\",\n",
        "    \"draw_year\": \"sum\",\n",
        "    \"active_months\": \"max\",\n",
        "    \"freq_y\": \"sum\",\n",
        "    \"sum_amt\": \"sum\",\n",
        "    \"approve_amt\": \"max\",\n",
        "}).reset_index()\n",
        "\n",
        "print(agg_df.head())\n"
      ],
      "metadata": {
        "id": "qSafJvd7KgVX"
      },
      "execution_count": null,
      "outputs": []
    }
  ]
}