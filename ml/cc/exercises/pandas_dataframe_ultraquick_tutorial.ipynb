{
  "nbformat": 4,
  "nbformat_minor": 0,
  "metadata": {
    "colab": {
      "name": "Pandas DataFrame UltraQuick Tutorial.ipynb",
      "provenance": [],
      "private_outputs": true,
      "toc_visible": true
    },
    "kernelspec": {
      "name": "python3",
      "display_name": "Python 3"
    }
  },
  "cells": [
    {
      "cell_type": "code",
      "metadata": {
        "id": "ZmL0l551Iibq"
      },
      "source": [
        "import numpy as np\n",
        "import pandas as pd"
      ],
      "execution_count": null,
      "outputs": []
    },
    {
      "cell_type": "code",
      "source": [],
      "metadata": {
        "id": "lhFcBwto9b0-"
      },
      "execution_count": null,
      "outputs": []
    },
    {
      "cell_type": "code",
      "metadata": {
        "id": "dbebd296"
      },
      "source": [
        "import pandas as pd\n",
        "excel_file_path = '/content/元氣循環貸/loan_draw_trade_asset(去識別)240905.xlsx'\n",
        "df_excel = pd.read_excel(excel_file_path)\n",
        "display(df_excel.head())"
      ],
      "execution_count": null,
      "outputs": []
    }
  ]
}